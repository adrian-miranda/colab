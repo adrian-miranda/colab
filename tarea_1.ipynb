{
  "nbformat": 4,
  "nbformat_minor": 0,
  "metadata": {
    "colab": {
      "provenance": [],
      "include_colab_link": true
    },
    "kernelspec": {
      "name": "ir",
      "display_name": "R"
    },
    "language_info": {
      "name": "R"
    }
  },
  "cells": [
    {
      "cell_type": "markdown",
      "metadata": {
        "id": "view-in-github",
        "colab_type": "text"
      },
      "source": [
        "<a href=\"https://colab.research.google.com/github/adrian-miranda/colab/blob/master/tarea_1.ipynb\" target=\"_parent\"><img src=\"https://colab.research.google.com/assets/colab-badge.svg\" alt=\"Open In Colab\"/></a>"
      ]
    },
    {
      "cell_type": "code",
      "execution_count": null,
      "metadata": {
        "colab": {
          "base_uri": "https://localhost:8080/"
        },
        "collapsed": true,
        "id": "Oko6lvqkHqZC",
        "outputId": "20161a13-6a76-4bd5-eaeb-dba25cd1fea1"
      },
      "outputs": [
        {
          "output_type": "stream",
          "name": "stderr",
          "text": [
            "Installing package into ‘/usr/local/lib/R/site-library’\n",
            "(as ‘lib’ is unspecified)\n",
            "\n",
            "\n",
            "Attaching package: ‘dplyr’\n",
            "\n",
            "\n",
            "The following objects are masked from ‘package:stats’:\n",
            "\n",
            "    filter, lag\n",
            "\n",
            "\n",
            "The following objects are masked from ‘package:base’:\n",
            "\n",
            "    intersect, setdiff, setequal, union\n",
            "\n",
            "\n"
          ]
        }
      ],
      "source": [
        "install.packages(\"ggplot2\")\n",
        "library(ggplot2)\n",
        "library(dplyr) #activar libreria"
      ]
    },
    {
      "cell_type": "code",
      "source": [
        "data(mtcars)"
      ],
      "metadata": {
        "id": "wwEAZ3PcIW_c"
      },
      "execution_count": null,
      "outputs": []
    },
    {
      "cell_type": "code",
      "source": [
        "datosTarea <- select(mtcars, cyl , hp)\n",
        "datosTarea"
      ],
      "metadata": {
        "collapsed": true,
        "colab": {
          "base_uri": "https://localhost:8080/",
          "height": 1000
        },
        "id": "hHcH0NZpIdBb",
        "outputId": "ae4931e8-d60a-473d-dc10-d7e8adc13d9c"
      },
      "execution_count": null,
      "outputs": [
        {
          "output_type": "display_data",
          "data": {
            "text/html": [
              "<table class=\"dataframe\">\n",
              "<caption>A data.frame: 32 × 2</caption>\n",
              "<thead>\n",
              "\t<tr><th></th><th scope=col>cyl</th><th scope=col>hp</th></tr>\n",
              "\t<tr><th></th><th scope=col>&lt;dbl&gt;</th><th scope=col>&lt;dbl&gt;</th></tr>\n",
              "</thead>\n",
              "<tbody>\n",
              "\t<tr><th scope=row>Mazda RX4</th><td>6</td><td>110</td></tr>\n",
              "\t<tr><th scope=row>Mazda RX4 Wag</th><td>6</td><td>110</td></tr>\n",
              "\t<tr><th scope=row>Datsun 710</th><td>4</td><td> 93</td></tr>\n",
              "\t<tr><th scope=row>Hornet 4 Drive</th><td>6</td><td>110</td></tr>\n",
              "\t<tr><th scope=row>Hornet Sportabout</th><td>8</td><td>175</td></tr>\n",
              "\t<tr><th scope=row>Valiant</th><td>6</td><td>105</td></tr>\n",
              "\t<tr><th scope=row>Duster 360</th><td>8</td><td>245</td></tr>\n",
              "\t<tr><th scope=row>Merc 240D</th><td>4</td><td> 62</td></tr>\n",
              "\t<tr><th scope=row>Merc 230</th><td>4</td><td> 95</td></tr>\n",
              "\t<tr><th scope=row>Merc 280</th><td>6</td><td>123</td></tr>\n",
              "\t<tr><th scope=row>Merc 280C</th><td>6</td><td>123</td></tr>\n",
              "\t<tr><th scope=row>Merc 450SE</th><td>8</td><td>180</td></tr>\n",
              "\t<tr><th scope=row>Merc 450SL</th><td>8</td><td>180</td></tr>\n",
              "\t<tr><th scope=row>Merc 450SLC</th><td>8</td><td>180</td></tr>\n",
              "\t<tr><th scope=row>Cadillac Fleetwood</th><td>8</td><td>205</td></tr>\n",
              "\t<tr><th scope=row>Lincoln Continental</th><td>8</td><td>215</td></tr>\n",
              "\t<tr><th scope=row>Chrysler Imperial</th><td>8</td><td>230</td></tr>\n",
              "\t<tr><th scope=row>Fiat 128</th><td>4</td><td> 66</td></tr>\n",
              "\t<tr><th scope=row>Honda Civic</th><td>4</td><td> 52</td></tr>\n",
              "\t<tr><th scope=row>Toyota Corolla</th><td>4</td><td> 65</td></tr>\n",
              "\t<tr><th scope=row>Toyota Corona</th><td>4</td><td> 97</td></tr>\n",
              "\t<tr><th scope=row>Dodge Challenger</th><td>8</td><td>150</td></tr>\n",
              "\t<tr><th scope=row>AMC Javelin</th><td>8</td><td>150</td></tr>\n",
              "\t<tr><th scope=row>Camaro Z28</th><td>8</td><td>245</td></tr>\n",
              "\t<tr><th scope=row>Pontiac Firebird</th><td>8</td><td>175</td></tr>\n",
              "\t<tr><th scope=row>Fiat X1-9</th><td>4</td><td> 66</td></tr>\n",
              "\t<tr><th scope=row>Porsche 914-2</th><td>4</td><td> 91</td></tr>\n",
              "\t<tr><th scope=row>Lotus Europa</th><td>4</td><td>113</td></tr>\n",
              "\t<tr><th scope=row>Ford Pantera L</th><td>8</td><td>264</td></tr>\n",
              "\t<tr><th scope=row>Ferrari Dino</th><td>6</td><td>175</td></tr>\n",
              "\t<tr><th scope=row>Maserati Bora</th><td>8</td><td>335</td></tr>\n",
              "\t<tr><th scope=row>Volvo 142E</th><td>4</td><td>109</td></tr>\n",
              "</tbody>\n",
              "</table>\n"
            ],
            "text/markdown": "\nA data.frame: 32 × 2\n\n| <!--/--> | cyl &lt;dbl&gt; | hp &lt;dbl&gt; |\n|---|---|---|\n| Mazda RX4 | 6 | 110 |\n| Mazda RX4 Wag | 6 | 110 |\n| Datsun 710 | 4 |  93 |\n| Hornet 4 Drive | 6 | 110 |\n| Hornet Sportabout | 8 | 175 |\n| Valiant | 6 | 105 |\n| Duster 360 | 8 | 245 |\n| Merc 240D | 4 |  62 |\n| Merc 230 | 4 |  95 |\n| Merc 280 | 6 | 123 |\n| Merc 280C | 6 | 123 |\n| Merc 450SE | 8 | 180 |\n| Merc 450SL | 8 | 180 |\n| Merc 450SLC | 8 | 180 |\n| Cadillac Fleetwood | 8 | 205 |\n| Lincoln Continental | 8 | 215 |\n| Chrysler Imperial | 8 | 230 |\n| Fiat 128 | 4 |  66 |\n| Honda Civic | 4 |  52 |\n| Toyota Corolla | 4 |  65 |\n| Toyota Corona | 4 |  97 |\n| Dodge Challenger | 8 | 150 |\n| AMC Javelin | 8 | 150 |\n| Camaro Z28 | 8 | 245 |\n| Pontiac Firebird | 8 | 175 |\n| Fiat X1-9 | 4 |  66 |\n| Porsche 914-2 | 4 |  91 |\n| Lotus Europa | 4 | 113 |\n| Ford Pantera L | 8 | 264 |\n| Ferrari Dino | 6 | 175 |\n| Maserati Bora | 8 | 335 |\n| Volvo 142E | 4 | 109 |\n\n",
            "text/latex": "A data.frame: 32 × 2\n\\begin{tabular}{r|ll}\n  & cyl & hp\\\\\n  & <dbl> & <dbl>\\\\\n\\hline\n\tMazda RX4 & 6 & 110\\\\\n\tMazda RX4 Wag & 6 & 110\\\\\n\tDatsun 710 & 4 &  93\\\\\n\tHornet 4 Drive & 6 & 110\\\\\n\tHornet Sportabout & 8 & 175\\\\\n\tValiant & 6 & 105\\\\\n\tDuster 360 & 8 & 245\\\\\n\tMerc 240D & 4 &  62\\\\\n\tMerc 230 & 4 &  95\\\\\n\tMerc 280 & 6 & 123\\\\\n\tMerc 280C & 6 & 123\\\\\n\tMerc 450SE & 8 & 180\\\\\n\tMerc 450SL & 8 & 180\\\\\n\tMerc 450SLC & 8 & 180\\\\\n\tCadillac Fleetwood & 8 & 205\\\\\n\tLincoln Continental & 8 & 215\\\\\n\tChrysler Imperial & 8 & 230\\\\\n\tFiat 128 & 4 &  66\\\\\n\tHonda Civic & 4 &  52\\\\\n\tToyota Corolla & 4 &  65\\\\\n\tToyota Corona & 4 &  97\\\\\n\tDodge Challenger & 8 & 150\\\\\n\tAMC Javelin & 8 & 150\\\\\n\tCamaro Z28 & 8 & 245\\\\\n\tPontiac Firebird & 8 & 175\\\\\n\tFiat X1-9 & 4 &  66\\\\\n\tPorsche 914-2 & 4 &  91\\\\\n\tLotus Europa & 4 & 113\\\\\n\tFord Pantera L & 8 & 264\\\\\n\tFerrari Dino & 6 & 175\\\\\n\tMaserati Bora & 8 & 335\\\\\n\tVolvo 142E & 4 & 109\\\\\n\\end{tabular}\n",
            "text/plain": [
              "                    cyl hp \n",
              "Mazda RX4           6   110\n",
              "Mazda RX4 Wag       6   110\n",
              "Datsun 710          4    93\n",
              "Hornet 4 Drive      6   110\n",
              "Hornet Sportabout   8   175\n",
              "Valiant             6   105\n",
              "Duster 360          8   245\n",
              "Merc 240D           4    62\n",
              "Merc 230            4    95\n",
              "Merc 280            6   123\n",
              "Merc 280C           6   123\n",
              "Merc 450SE          8   180\n",
              "Merc 450SL          8   180\n",
              "Merc 450SLC         8   180\n",
              "Cadillac Fleetwood  8   205\n",
              "Lincoln Continental 8   215\n",
              "Chrysler Imperial   8   230\n",
              "Fiat 128            4    66\n",
              "Honda Civic         4    52\n",
              "Toyota Corolla      4    65\n",
              "Toyota Corona       4    97\n",
              "Dodge Challenger    8   150\n",
              "AMC Javelin         8   150\n",
              "Camaro Z28          8   245\n",
              "Pontiac Firebird    8   175\n",
              "Fiat X1-9           4    66\n",
              "Porsche 914-2       4    91\n",
              "Lotus Europa        4   113\n",
              "Ford Pantera L      8   264\n",
              "Ferrari Dino        6   175\n",
              "Maserati Bora       8   335\n",
              "Volvo 142E          4   109"
            ]
          },
          "metadata": {}
        }
      ]
    },
    {
      "cell_type": "code",
      "source": [
        "summary(mtcars$cyl)\n",
        "mean(mtcars$cyl)\n",
        "sd(mtcars$cyl)/mean(mtcars$cyl)#coef de variacion"
      ],
      "metadata": {
        "colab": {
          "base_uri": "https://localhost:8080/",
          "height": 86
        },
        "id": "8Kf-3cR1IhML",
        "outputId": "739ace2f-9df2-4fec-ad24-6a24310f3b7a"
      },
      "execution_count": null,
      "outputs": [
        {
          "output_type": "display_data",
          "data": {
            "text/plain": [
              "   Min. 1st Qu.  Median    Mean 3rd Qu.    Max. \n",
              "  4.000   4.000   6.000   6.188   8.000   8.000 "
            ]
          },
          "metadata": {}
        },
        {
          "output_type": "display_data",
          "data": {
            "text/html": [
              "6.1875"
            ],
            "text/markdown": "6.1875",
            "text/latex": "6.1875",
            "text/plain": [
              "[1] 6.1875"
            ]
          },
          "metadata": {}
        },
        {
          "output_type": "display_data",
          "data": {
            "text/html": [
              "0.288633801526714"
            ],
            "text/markdown": "0.288633801526714",
            "text/latex": "0.288633801526714",
            "text/plain": [
              "[1] 0.2886338"
            ]
          },
          "metadata": {}
        }
      ]
    },
    {
      "cell_type": "code",
      "source": [
        "ggplot(datosTarea)+aes(x=cyl , y=hp)+geom_point()+geom_smooth(method = \"lm\")"
      ],
      "metadata": {
        "collapsed": true,
        "colab": {
          "base_uri": "https://localhost:8080/",
          "height": 454
        },
        "id": "Ypj4En4_IsY7",
        "outputId": "3f5f22ec-f857-49ba-8a17-dce3ef7d8ba1"
      },
      "execution_count": null,
      "outputs": [
        {
          "output_type": "stream",
          "name": "stderr",
          "text": [
            "\u001b[1m\u001b[22m`geom_smooth()` using formula = 'y ~ x'\n"
          ]
        },
        {
          "output_type": "display_data",
          "data": {
            "text/plain": [
              "plot without title"
            ],
            "image/png": "[encoded data removed]"
          },
          "metadata": {
            "image/png": {
              "width": 420,
              "height": 420
            }
          }
        }
      ]
    },
    {
      "cell_type": "code",
      "source": [
        "cor(select_if(datosTarea , is.numeric))"
      ],
      "metadata": {
        "colab": {
          "base_uri": "https://localhost:8080/",
          "height": 129
        },
        "id": "B33npa0iIwqV",
        "outputId": "af9f456c-ff13-4cc6-e9e1-a936134a16d5"
      },
      "execution_count": null,
      "outputs": [
        {
          "output_type": "display_data",
          "data": {
            "text/html": [
              "<table class=\"dataframe\">\n",
              "<caption>A matrix: 2 × 2 of type dbl</caption>\n",
              "<thead>\n",
              "\t<tr><th></th><th scope=col>cyl</th><th scope=col>hp</th></tr>\n",
              "</thead>\n",
              "<tbody>\n",
              "\t<tr><th scope=row>cyl</th><td>1.0000000</td><td>0.8324475</td></tr>\n",
              "\t<tr><th scope=row>hp</th><td>0.8324475</td><td>1.0000000</td></tr>\n",
              "</tbody>\n",
              "</table>\n"
            ],
            "text/markdown": "\nA matrix: 2 × 2 of type dbl\n\n| <!--/--> | cyl | hp |\n|---|---|---|\n| cyl | 1.0000000 | 0.8324475 |\n| hp | 0.8324475 | 1.0000000 |\n\n",
            "text/latex": "A matrix: 2 × 2 of type dbl\n\\begin{tabular}{r|ll}\n  & cyl & hp\\\\\n\\hline\n\tcyl & 1.0000000 & 0.8324475\\\\\n\thp & 0.8324475 & 1.0000000\\\\\n\\end{tabular}\n",
            "text/plain": [
              "    cyl       hp       \n",
              "cyl 1.0000000 0.8324475\n",
              "hp  0.8324475 1.0000000"
            ]
          },
          "metadata": {}
        }
      ]
    }
  ]
}